{
 "cells": [
  {
   "cell_type": "code",
   "execution_count": 1,
   "id": "1aad6980",
   "metadata": {},
   "outputs": [],
   "source": [
    "from datetime import datetime, timedelta\n",
    "import os\n",
    "import configparser\n",
    "import requests\n",
    "import pandas as pd\n",
    "import numpy as np\n",
    "import boto3\n",
    "import io"
   ]
  },
  {
   "cell_type": "code",
   "execution_count": 2,
   "id": "89ded0f8",
   "metadata": {},
   "outputs": [],
   "source": [
    "# Read config files to get file locations\n",
    "config = configparser.RawConfigParser()\n",
    "config.read('../configs/param.cfg')\n",
    "\n",
    "# Raw data\n",
    "path_question = config['FILE_LOCATION'][f'loc_so_question']\n",
    "path_question_tag = config['FILE_LOCATION'][f'loc_so_question_tag']\n",
    "\n",
    "# Output data\n",
    "path_dim_date = config['FILE_LOCATION']['loc_dim_date']\n",
    "path_dim_tag = config['FILE_LOCATION']['loc_dim_tag']\n",
    "path_fact_question = config['FILE_LOCATION']['loc_fact_question']\n",
    "path_fact_question_tag = config['FILE_LOCATION']['loc_fact_question_tag']"
   ]
  },
  {
   "cell_type": "code",
   "execution_count": 3,
   "id": "98f63add",
   "metadata": {},
   "outputs": [
    {
     "name": "stdout",
     "output_type": "stream",
     "text": [
      "                    Id         Score     OwnerUserId AnswerCount\n",
      "count         17203824      17203824        13088517    15463823\n",
      "mean   22655681.906628      1.204167  2274603.883636    1.417859\n",
      "std    11753988.576403     15.645736  1911360.680041    1.498361\n",
      "min           1.000000   -154.000000        1.000000   -5.000000\n",
      "25%    12841969.750000      0.000000   692377.000000    1.000000\n",
      "50%    23316485.500000      0.000000  1697528.000000    1.000000\n",
      "75%    32817102.250000      1.000000  3546476.000000    2.000000\n",
      "max    42069071.000000  16902.000000  7520803.000000  518.000000\n"
     ]
    }
   ],
   "source": [
    "# Read downloaded questions file as DataFrame\n",
    "df_question = pd.read_csv(path_question, compression='zip')\n",
    "\n",
    "# Question file profiling\n",
    "desc = df_question.describe()\n",
    "desc.loc['count'] = desc.loc['count'].astype(int).astype(str)\n",
    "desc.iloc[1:] = desc.iloc[1:].applymap('{:.6f}'.format)\n",
    "print(desc)"
   ]
  },
  {
   "cell_type": "code",
   "execution_count": 4,
   "id": "99f16ec2",
   "metadata": {},
   "outputs": [
    {
     "name": "stdout",
     "output_type": "stream",
     "text": [
      "                    Id\n",
      "count         50576842\n",
      "mean   22799501.591920\n",
      "std    11701022.581574\n",
      "min           1.000000\n",
      "25%    13074746.000000\n",
      "50%    23503290.000000\n",
      "75%    32885768.750000\n",
      "max    42069071.000000\n"
     ]
    }
   ],
   "source": [
    "# Read downloaded question_tags file as DataFrame\n",
    "df_question_tag = pd.read_csv(path_question_tag, compression='zip')\n",
    "\n",
    "# Question_tags file profiling\n",
    "desc = df_question_tag.describe()\n",
    "desc.loc['count'] = desc.loc['count'].astype(int).astype(str)\n",
    "desc.iloc[1:] = desc.iloc[1:].applymap('{:.6f}'.format)\n",
    "print(desc)"
   ]
  },
  {
   "cell_type": "code",
   "execution_count": 6,
   "id": "ad70a6b3",
   "metadata": {},
   "outputs": [
    {
     "name": "stdout",
     "output_type": "stream",
     "text": [
      "        Unnamed: 0        day   weekday      month   quarter         year\n",
      "count         3112       3112      3112       3112      3112         3112\n",
      "mean   1555.500000  15.714332  3.000000   6.628535  2.544023  2012.330656\n",
      "std     898.501345   8.815642  2.000161   3.491027  1.125944     2.478370\n",
      "min       0.000000   1.000000  0.000000   1.000000  1.000000  2008.000000\n",
      "25%     777.750000   8.000000  1.000000   4.000000  2.000000  2010.000000\n",
      "50%    1555.500000  16.000000  3.000000   7.000000  3.000000  2012.000000\n",
      "75%    2333.250000  23.000000  5.000000  10.000000  4.000000  2014.000000\n",
      "max    3111.000000  31.000000  6.000000  12.000000  4.000000  2017.000000\n"
     ]
    }
   ],
   "source": [
    "# Read dimDate as DataFrame\n",
    "df_dim_date = pd.read_csv(path_dim_date)\n",
    "\n",
    "# dimDate profiling\n",
    "desc = df_dim_date.describe()\n",
    "desc.loc['count'] = desc.loc['count'].astype(int).astype(str)\n",
    "desc.iloc[1:] = desc.iloc[1:].applymap('{:.6f}'.format)\n",
    "print(desc)"
   ]
  },
  {
   "cell_type": "code",
   "execution_count": 7,
   "id": "f40fb3e0",
   "metadata": {},
   "outputs": [
    {
     "name": "stdout",
     "output_type": "stream",
     "text": [
      "         Unnamed: 0         TagID\n",
      "count         20993         20993\n",
      "mean   10496.000000  10496.000000\n",
      "std     6060.301436   6060.301436\n",
      "min        0.000000      0.000000\n",
      "25%     5248.000000   5248.000000\n",
      "50%    10496.000000  10496.000000\n",
      "75%    15744.000000  15744.000000\n",
      "max    20992.000000  20992.000000\n"
     ]
    }
   ],
   "source": [
    "# Read dimTag as DataFrame\n",
    "df_dim_tag = pd.read_csv(path_dim_tag)\n",
    "\n",
    "# dimTag profiling\n",
    "desc = df_dim_tag.describe()\n",
    "desc.loc['count'] = desc.loc['count'].astype(int).astype(str)\n",
    "desc.iloc[1:] = desc.iloc[1:].applymap('{:.6f}'.format)\n",
    "print(desc)"
   ]
  },
  {
   "cell_type": "code",
   "execution_count": 8,
   "id": "6411f307",
   "metadata": {},
   "outputs": [
    {
     "name": "stdout",
     "output_type": "stream",
     "text": [
      "          Unnamed: 0   Unnamed: 0.1              Id         Score  \\\n",
      "count        1000000        1000000         1000000       1000000   \n",
      "mean   499999.500000  499999.500000  2037626.596164      7.190304   \n",
      "std    288675.278932  288675.278932  1033195.976199     53.045970   \n",
      "min         0.000000       0.000000        1.000000    -73.000000   \n",
      "25%    249999.750000  249999.750000  1186752.250000      0.000000   \n",
      "50%    499999.500000  499999.500000  2113644.000000      1.000000   \n",
      "75%    749999.250000  749999.250000  2934619.250000      4.000000   \n",
      "max    999999.000000  999999.000000  3705576.000000  12968.000000   \n",
      "\n",
      "          OwnerUserId AnswerCount                     hash_key  \n",
      "count          815443      956609                      1000000  \n",
      "mean    185260.235396    2.843447   9222765394941554688.000000  \n",
      "std     237989.582327    3.309818   5323723884527627264.000000  \n",
      "min          1.000000   -5.000000         4448756865451.000000  \n",
      "25%      54964.000000    1.000000   4612057159480536064.000000  \n",
      "50%     143960.000000    2.000000   9217103289883332608.000000  \n",
      "75%     261156.500000    4.000000  13836605166391187456.000000  \n",
      "max    7485510.000000  518.000000  18446719323014211584.000000  \n"
     ]
    }
   ],
   "source": [
    "# Read factQuestion as DataFrame\n",
    "df_fact_question = pd.read_csv(path_fact_question)\n",
    "\n",
    "# factQuestion profiling\n",
    "desc = df_fact_question.describe()\n",
    "desc.loc['count'] = desc.loc['count'].astype(int).astype(str)\n",
    "desc.iloc[1:] = desc.iloc[1:].applymap('{:.6f}'.format)\n",
    "print(desc)"
   ]
  },
  {
   "cell_type": "code",
   "execution_count": 10,
   "id": "f5cb6217",
   "metadata": {},
   "outputs": [
    {
     "name": "stdout",
     "output_type": "stream",
     "text": [
      "          Unnamed: 0   Unnamed: 0.1              Id  \\\n",
      "count        1000000        1000000         1000000   \n",
      "mean   499999.500000  499999.500000   862725.535469   \n",
      "std    288675.278932  288675.278932   442611.999472   \n",
      "min         0.000000       0.000000        1.000000   \n",
      "25%    249999.750000  249999.750000   496695.750000   \n",
      "50%    499999.500000  499999.500000   889155.000000   \n",
      "75%    749999.250000  749999.250000  1247532.000000   \n",
      "max    999999.000000  999999.000000  1578386.000000   \n",
      "\n",
      "                          hash_key         TagID  \n",
      "count                      1000000       1000000  \n",
      "mean    9218010219384241152.000000   1645.099865  \n",
      "std     5321647588159413248.000000   3137.369669  \n",
      "min          40246445872800.000000      0.000000  \n",
      "25%     4607302913044857856.000000     80.000000  \n",
      "50%     9213508065146435584.000000    392.000000  \n",
      "75%    13822761688794650624.000000   1501.000000  \n",
      "max    18446743771010238464.000000  20992.000000  \n"
     ]
    }
   ],
   "source": [
    "# Read factQuestionTag as DataFrame\n",
    "df_fact_question_tag = pd.read_csv(path_fact_question_tag)\n",
    "\n",
    "# factQuestionTag profiling\n",
    "desc = df_fact_question_tag.describe()\n",
    "desc.loc['count'] = desc.loc['count'].astype(int).astype(str)\n",
    "desc.iloc[1:] = desc.iloc[1:].applymap('{:.6f}'.format)\n",
    "print(desc)"
   ]
  }
 ],
 "metadata": {
  "kernelspec": {
   "display_name": "Python 3 (ipykernel)",
   "language": "python",
   "name": "python3"
  },
  "language_info": {
   "codemirror_mode": {
    "name": "ipython",
    "version": 3
   },
   "file_extension": ".py",
   "mimetype": "text/x-python",
   "name": "python",
   "nbconvert_exporter": "python",
   "pygments_lexer": "ipython3",
   "version": "3.8.10"
  }
 },
 "nbformat": 4,
 "nbformat_minor": 5
}