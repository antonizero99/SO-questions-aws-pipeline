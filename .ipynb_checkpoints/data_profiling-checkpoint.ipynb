{
 "cells": [
  {
   "cell_type": "code",
   "execution_count": 1,
   "id": "57f8e888",
   "metadata": {},
   "outputs": [],
   "source": [
    "from datetime import datetime, timedelta\n",
    "import os\n",
    "import configparser\n",
    "import requests\n",
    "import pandas as pd\n",
    "import numpy as np\n",
    "import boto3\n",
    "import io"
   ]
  },
  {
   "cell_type": "code",
   "execution_count": 5,
   "id": "6b2043cf",
   "metadata": {},
   "outputs": [],
   "source": [
    "# Read config files to get file locations\n",
    "config = configparser.RawConfigParser()\n",
    "config.read('../configs/param.cfg')\n",
    "path_question = config['FILE_LOCATION'][f'loc_so_question']\n",
    "path_question_tag = config['FILE_LOCATION'][f'loc_so_question_tag']"
   ]
  },
  {
   "cell_type": "code",
   "execution_count": 7,
   "id": "bc41bb54",
   "metadata": {},
   "outputs": [],
   "source": [
    "# Read downloaded questions file as DataFrame\n",
    "df_question = pd.read_csv(path_question, compression='zip')"
   ]
  },
  {
   "cell_type": "code",
   "execution_count": 9,
   "id": "be15d2e9",
   "metadata": {},
   "outputs": [
    {
     "name": "stdout",
     "output_type": "stream",
     "text": [
      "                    Id         Score     OwnerUserId AnswerCount\n",
      "count         17203824      17203824        13088517    15463823\n",
      "mean   22655681.906628      1.204167  2274603.883636    1.417859\n",
      "std    11753988.576403     15.645736  1911360.680041    1.498361\n",
      "min           1.000000   -154.000000        1.000000   -5.000000\n",
      "25%    12841969.750000      0.000000   692377.000000    1.000000\n",
      "50%    23316485.500000      0.000000  1697528.000000    1.000000\n",
      "75%    32817102.250000      1.000000  3546476.000000    2.000000\n",
      "max    42069071.000000  16902.000000  7520803.000000  518.000000\n"
     ]
    }
   ],
   "source": [
    "# Question file profiling\n",
    "desc = df_question.describe()\n",
    "desc.loc['count'] = desc.loc['count'].astype(int).astype(str)\n",
    "desc.iloc[1:] = desc.iloc[1:].applymap('{:.6f}'.format)\n",
    "print(desc)"
   ]
  },
  {
   "cell_type": "code",
   "execution_count": 11,
   "id": "7087f753",
   "metadata": {},
   "outputs": [],
   "source": [
    "# Read downloaded question_tags file as DataFrame\n",
    "df_question_tag = pd.read_csv(path_question_tag, compression='zip')"
   ]
  },
  {
   "cell_type": "code",
   "execution_count": 12,
   "id": "fa11a9ee",
   "metadata": {},
   "outputs": [
    {
     "name": "stdout",
     "output_type": "stream",
     "text": [
      "                    Id\n",
      "count         50576842\n",
      "mean   22799501.591920\n",
      "std    11701022.581574\n",
      "min           1.000000\n",
      "25%    13074746.000000\n",
      "50%    23503290.000000\n",
      "75%    32885768.750000\n",
      "max    42069071.000000\n"
     ]
    }
   ],
   "source": [
    "# Question_tags file profiling\n",
    "desc = df_question_tag.describe()\n",
    "desc.loc['count'] = desc.loc['count'].astype(int).astype(str)\n",
    "desc.iloc[1:] = desc.iloc[1:].applymap('{:.6f}'.format)\n",
    "print(desc)"
   ]
  }
 ],
 "metadata": {
  "kernelspec": {
   "display_name": "Python 3 (ipykernel)",
   "language": "python",
   "name": "python3"
  },
  "language_info": {
   "codemirror_mode": {
    "name": "ipython",
    "version": 3
   },
   "file_extension": ".py",
   "mimetype": "text/x-python",
   "name": "python",
   "nbconvert_exporter": "python",
   "pygments_lexer": "ipython3",
   "version": "3.8.10"
  }
 },
 "nbformat": 4,
 "nbformat_minor": 5
}
