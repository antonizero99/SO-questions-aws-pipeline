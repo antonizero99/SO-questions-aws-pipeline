{
 "cells": [
  {
   "cell_type": "code",
   "execution_count": 1,
   "id": "1aad6980",
   "metadata": {},
   "outputs": [],
   "source": [
    "from datetime import datetime, timedelta\n",
    "import os\n",
    "import configparser\n",
    "import requests\n",
    "import pandas as pd\n",
    "import numpy as np\n",
    "import boto3\n",
    "import io"
   ]
  },
  {
   "cell_type": "code",
   "execution_count": 14,
   "id": "89ded0f8",
   "metadata": {},
   "outputs": [],
   "source": [
    "# Read config files to get file locations\n",
    "config = configparser.RawConfigParser()\n",
    "config.read('../configs/param.cfg')\n",
    "\n",
    "# Raw data\n",
    "path_question = config['FILE_LOCATION'][f'loc_so_question']\n",
    "path_question_tag = config['FILE_LOCATION'][f'loc_so_question_tag']\n",
    "\n",
    "# Output data\n",
    "path_dim_date = config['FILE_LOCATION']['loc_dim_date']\n",
    "path_dim_tag = config['FILE_LOCATION']['loc_dim_tag']\n",
    "path_fact_question = config['FILE_LOCATION']['loc_fact_question']\n",
    "path_fact_question_tag = config['FILE_LOCATION']['loc_fact_question_tag']"
   ]
  },
  {
   "cell_type": "code",
   "execution_count": 7,
   "id": "98f63add",
   "metadata": {},
   "outputs": [],
   "source": [
    "# Read downloaded questions file as DataFrame\n",
    "df_question = pd.read_csv(path_question, compression='zip')\n",
    "\n",
    "# Question file profiling\n",
    "desc = df_question.describe()\n",
    "desc.loc['count'] = desc.loc['count'].astype(int).astype(str)\n",
    "desc.iloc[1:] = desc.iloc[1:].applymap('{:.6f}'.format)\n",
    "print(desc)"
   ]
  },
  {
   "cell_type": "code",
   "execution_count": 11,
   "id": "99f16ec2",
   "metadata": {},
   "outputs": [],
   "source": [
    "# Read downloaded question_tags file as DataFrame\n",
    "df_question_tag = pd.read_csv(path_question_tag, compression='zip')\n",
    "\n",
    "# Question_tags file profiling\n",
    "desc = df_question_tag.describe()\n",
    "desc.loc['count'] = desc.loc['count'].astype(int).astype(str)\n",
    "desc.iloc[1:] = desc.iloc[1:].applymap('{:.6f}'.format)\n",
    "print(desc)"
   ]
  },
  {
   "cell_type": "code",
   "execution_count": null,
   "id": "ad70a6b3",
   "metadata": {},
   "outputs": [],
   "source": [
    "# Read dimDate as DataFrame\n",
    "df_dim_date = pd.read_csv(path_dim_date, compression='zip')\n",
    "\n",
    "# dimDate profiling\n",
    "desc = df_dim_date.describe()\n",
    "desc.loc['count'] = desc.loc['count'].astype(int).astype(str)\n",
    "desc.iloc[1:] = desc.iloc[1:].applymap('{:.6f}'.format)\n",
    "print(desc)"
   ]
  },
  {
   "cell_type": "code",
   "execution_count": null,
   "id": "f40fb3e0",
   "metadata": {},
   "outputs": [],
   "source": [
    "# Read dimTag as DataFrame\n",
    "df_dim_tag = pd.read_csv(path_dim_tag, compression='zip')\n",
    "\n",
    "# dimTag profiling\n",
    "desc = df_dim_tag.describe()\n",
    "desc.loc['count'] = desc.loc['count'].astype(int).astype(str)\n",
    "desc.iloc[1:] = desc.iloc[1:].applymap('{:.6f}'.format)\n",
    "print(desc)"
   ]
  },
  {
   "cell_type": "code",
   "execution_count": null,
   "id": "6411f307",
   "metadata": {},
   "outputs": [],
   "source": [
    "# Read factQuestion as DataFrame\n",
    "df_fact_question = pd.read_csv(path_fact_question, compression='zip')\n",
    "\n",
    "# factQuestion profiling\n",
    "desc = df_fact_question.describe()\n",
    "desc.loc['count'] = desc.loc['count'].astype(int).astype(str)\n",
    "desc.iloc[1:] = desc.iloc[1:].applymap('{:.6f}'.format)\n",
    "print(desc)"
   ]
  },
  {
   "cell_type": "code",
   "execution_count": null,
   "id": "f5cb6217",
   "metadata": {},
   "outputs": [],
   "source": [
    "# Read factQuestionTag as DataFrame\n",
    "df_fact_question_tag = pd.read_csv(path_fact_question_tag, compression='zip')\n",
    "\n",
    "# factQuestionTag profiling\n",
    "desc = df_fact_question_tag.describe()\n",
    "desc.loc['count'] = desc.loc['count'].astype(int).astype(str)\n",
    "desc.iloc[1:] = desc.iloc[1:].applymap('{:.6f}'.format)\n",
    "print(desc)"
   ]
  }
 ],
 "metadata": {
  "kernelspec": {
   "display_name": "Python 3 (ipykernel)",
   "language": "python",
   "name": "python3"
  },
  "language_info": {
   "codemirror_mode": {
    "name": "ipython",
    "version": 3
   },
   "file_extension": ".py",
   "mimetype": "text/x-python",
   "name": "python",
   "nbconvert_exporter": "python",
   "pygments_lexer": "ipython3",
   "version": "3.8.10"
  }
 },
 "nbformat": 4,
 "nbformat_minor": 5
}
